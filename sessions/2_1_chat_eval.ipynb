{
  "cells": [
    {
      "cell_type": "markdown",
      "id": "7ec81a16",
      "metadata": {
        "id": "7ec81a16"
      },
      "source": [
        "# Chat Evaluation for Financial Analysis"
      ]
    },
    {
      "cell_type": "markdown",
      "id": "3849e1a6",
      "metadata": {
        "id": "3849e1a6"
      },
      "source": [
        "## Overview\n",
        "\n",
        "In this workshop, we'll work with a **financial analyst chatbot** that can answer financial analysis questions and process financial data. Our goal is to set up comprehensive evaluations for this agent to measure how well it performs on financial analysis tasks.\n",
        "\n",
        "## What We'll Build\n",
        "\n",
        "Throughout the following sections, we'll systematically build evaluation capabilities for our financial analysis agent, allowing you to measure performance quickly and reliably so you can iterate with confidence.\n",
        "\n",
        "## Workshop Objectives\n",
        "\n",
        "Using **LangSmith** as our evaluation platform, we will:\n",
        "\n",
        "1. **Create an initial dataset** to measure performance on financial analysis tasks\n",
        "2. **Define metrics** to evaluate the quality of financial insights and style of recommendations  \n",
        "3. **Run evaluations** on different prompts, models, and agent configurations\n",
        "4. **Compare results manually** to understand strengths and weaknesses\n",
        "5. **Track results over time** to monitor improvements and regressions\n",
        "\n",
        "By the end of this workshop, you'll have an evaluation framework that will help you iterate quickly on developing and enhancing this financial agent.\n",
        "\n",
        "---\n",
        "\n",
        "*Let's get started by examining our financial analyst chatbot and understanding its current capabilities...*"
      ]
    },
    {
      "cell_type": "code",
      "execution_count": 21,
      "id": "d4d024c6",
      "metadata": {
        "colab": {
          "base_uri": "https://localhost:8080/"
        },
        "id": "d4d024c6",
        "outputId": "c2fc8038-f361-4601-a400-32ceaaad0715"
      },
      "outputs": [
        {
          "output_type": "stream",
          "name": "stdout",
          "text": [
            "Requirement already satisfied: langsmith in /usr/local/lib/python3.11/dist-packages (0.4.8)\n",
            "Requirement already satisfied: langchain-openai in /usr/local/lib/python3.11/dist-packages (0.3.28)\n",
            "Requirement already satisfied: openai in /usr/local/lib/python3.11/dist-packages (1.97.1)\n",
            "Requirement already satisfied: openevals in /usr/local/lib/python3.11/dist-packages (0.1.0)\n",
            "Requirement already satisfied: httpx<1,>=0.23.0 in /usr/local/lib/python3.11/dist-packages (from langsmith) (0.28.1)\n",
            "Requirement already satisfied: orjson<4.0.0,>=3.9.14 in /usr/local/lib/python3.11/dist-packages (from langsmith) (3.11.0)\n",
            "Requirement already satisfied: packaging>=23.2 in /usr/local/lib/python3.11/dist-packages (from langsmith) (25.0)\n",
            "Requirement already satisfied: pydantic<3,>=1 in /usr/local/lib/python3.11/dist-packages (from langsmith) (2.11.7)\n",
            "Requirement already satisfied: requests<3,>=2 in /usr/local/lib/python3.11/dist-packages (from langsmith) (2.32.3)\n",
            "Requirement already satisfied: requests-toolbelt<2.0.0,>=1.0.0 in /usr/local/lib/python3.11/dist-packages (from langsmith) (1.0.0)\n",
            "Requirement already satisfied: zstandard<0.24.0,>=0.23.0 in /usr/local/lib/python3.11/dist-packages (from langsmith) (0.23.0)\n",
            "Requirement already satisfied: langchain-core<1.0.0,>=0.3.68 in /usr/local/lib/python3.11/dist-packages (from langchain-openai) (0.3.70)\n",
            "Requirement already satisfied: tiktoken<1,>=0.7 in /usr/local/lib/python3.11/dist-packages (from langchain-openai) (0.9.0)\n",
            "Requirement already satisfied: anyio<5,>=3.5.0 in /usr/local/lib/python3.11/dist-packages (from openai) (4.9.0)\n",
            "Requirement already satisfied: distro<2,>=1.7.0 in /usr/local/lib/python3.11/dist-packages (from openai) (1.9.0)\n",
            "Requirement already satisfied: jiter<1,>=0.4.0 in /usr/local/lib/python3.11/dist-packages (from openai) (0.10.0)\n",
            "Requirement already satisfied: sniffio in /usr/local/lib/python3.11/dist-packages (from openai) (1.3.1)\n",
            "Requirement already satisfied: tqdm>4 in /usr/local/lib/python3.11/dist-packages (from openai) (4.67.1)\n",
            "Requirement already satisfied: typing-extensions<5,>=4.11 in /usr/local/lib/python3.11/dist-packages (from openai) (4.14.1)\n",
            "Requirement already satisfied: langchain>=0.3.18 in /usr/local/lib/python3.11/dist-packages (from openevals) (0.3.26)\n",
            "Requirement already satisfied: rich>=13.9.4 in /usr/local/lib/python3.11/dist-packages (from openevals) (13.9.4)\n",
            "Requirement already satisfied: idna>=2.8 in /usr/local/lib/python3.11/dist-packages (from anyio<5,>=3.5.0->openai) (3.10)\n",
            "Requirement already satisfied: certifi in /usr/local/lib/python3.11/dist-packages (from httpx<1,>=0.23.0->langsmith) (2025.7.14)\n",
            "Requirement already satisfied: httpcore==1.* in /usr/local/lib/python3.11/dist-packages (from httpx<1,>=0.23.0->langsmith) (1.0.9)\n",
            "Requirement already satisfied: h11>=0.16 in /usr/local/lib/python3.11/dist-packages (from httpcore==1.*->httpx<1,>=0.23.0->langsmith) (0.16.0)\n",
            "Requirement already satisfied: langchain-text-splitters<1.0.0,>=0.3.8 in /usr/local/lib/python3.11/dist-packages (from langchain>=0.3.18->openevals) (0.3.8)\n",
            "Requirement already satisfied: SQLAlchemy<3,>=1.4 in /usr/local/lib/python3.11/dist-packages (from langchain>=0.3.18->openevals) (2.0.41)\n",
            "Requirement already satisfied: PyYAML>=5.3 in /usr/local/lib/python3.11/dist-packages (from langchain>=0.3.18->openevals) (6.0.2)\n",
            "Requirement already satisfied: tenacity!=8.4.0,<10.0.0,>=8.1.0 in /usr/local/lib/python3.11/dist-packages (from langchain-core<1.0.0,>=0.3.68->langchain-openai) (8.5.0)\n",
            "Requirement already satisfied: jsonpatch<2.0,>=1.33 in /usr/local/lib/python3.11/dist-packages (from langchain-core<1.0.0,>=0.3.68->langchain-openai) (1.33)\n",
            "Requirement already satisfied: annotated-types>=0.6.0 in /usr/local/lib/python3.11/dist-packages (from pydantic<3,>=1->langsmith) (0.7.0)\n",
            "Requirement already satisfied: pydantic-core==2.33.2 in /usr/local/lib/python3.11/dist-packages (from pydantic<3,>=1->langsmith) (2.33.2)\n",
            "Requirement already satisfied: typing-inspection>=0.4.0 in /usr/local/lib/python3.11/dist-packages (from pydantic<3,>=1->langsmith) (0.4.1)\n",
            "Requirement already satisfied: charset-normalizer<4,>=2 in /usr/local/lib/python3.11/dist-packages (from requests<3,>=2->langsmith) (3.4.2)\n",
            "Requirement already satisfied: urllib3<3,>=1.21.1 in /usr/local/lib/python3.11/dist-packages (from requests<3,>=2->langsmith) (2.5.0)\n",
            "Requirement already satisfied: markdown-it-py>=2.2.0 in /usr/local/lib/python3.11/dist-packages (from rich>=13.9.4->openevals) (3.0.0)\n",
            "Requirement already satisfied: pygments<3.0.0,>=2.13.0 in /usr/local/lib/python3.11/dist-packages (from rich>=13.9.4->openevals) (2.19.2)\n",
            "Requirement already satisfied: regex>=2022.1.18 in /usr/local/lib/python3.11/dist-packages (from tiktoken<1,>=0.7->langchain-openai) (2024.11.6)\n",
            "Requirement already satisfied: jsonpointer>=1.9 in /usr/local/lib/python3.11/dist-packages (from jsonpatch<2.0,>=1.33->langchain-core<1.0.0,>=0.3.68->langchain-openai) (3.0.0)\n",
            "Requirement already satisfied: mdurl~=0.1 in /usr/local/lib/python3.11/dist-packages (from markdown-it-py>=2.2.0->rich>=13.9.4->openevals) (0.1.2)\n",
            "Requirement already satisfied: greenlet>=1 in /usr/local/lib/python3.11/dist-packages (from SQLAlchemy<3,>=1.4->langchain>=0.3.18->openevals) (3.2.3)\n"
          ]
        }
      ],
      "source": [
        "!pip install -U langsmith langchain-openai openai openevals"
      ]
    },
    {
      "cell_type": "code",
      "execution_count": 22,
      "id": "2c4e265f",
      "metadata": {
        "colab": {
          "base_uri": "https://localhost:8080/"
        },
        "id": "2c4e265f",
        "outputId": "6872a85d-e134-4bca-a50e-192fd2bf3951"
      },
      "outputs": [
        {
          "output_type": "stream",
          "name": "stdout",
          "text": [
            "✓ LangSmith API key already set\n",
            "✓ OpenAI API key already set\n",
            "\n",
            "✓ Environment setup complete!\n",
            "You can now proceed with the rest of the notebook.\n"
          ]
        }
      ],
      "source": [
        "import os\n",
        "import getpass\n",
        "from google.colab import userdata\n",
        "\n",
        "# Set up environment variables with your input\n",
        "#print(\"Please enter your API keys to get started:\")\n",
        "#print(\"=\" * 50)\n",
        "\n",
        "\n",
        "langsmith_api_key = userdata.get('LANGSMITH_API_KEY')\n",
        "os.environ[\"LANGSMITH_API_KEY\"] = langsmith_api_key\n",
        "\n",
        "openai_api_key = userdata.get('OPEN_AI_KEY')\n",
        "os.environ[\"OPENAI_API_KEY\"] = openai_api_key\n",
        "\n",
        "\n",
        "# LangSmith tracing setting\n",
        "#langsmith_tracing = input(\"Enable LangSmith tracing? (true/false) [default: true]: \").strip() or \"true\"\n",
        "os.environ[\"LANGSMITH_TRACING\"] = 'true' #langsmith_tracing\n",
        "\n",
        "# LangSmith API key (secure input)\n",
        "if not os.getenv(\"LANGSMITH_API_KEY\"):\n",
        "    langsmith_api_key = getpass.getpass(\"Enter your LangSmith API key: \")\n",
        "    os.environ[\"LANGSMITH_API_KEY\"] = langsmith_api_key\n",
        "else:\n",
        "    print(\"✓ LangSmith API key already set\")\n",
        "\n",
        "# OpenAI API key (secure input)\n",
        "if not os.getenv(\"OPENAI_API_KEY\"):\n",
        "    openai_api_key = getpass.getpass(\"Enter your OpenAI API key: \")\n",
        "    os.environ[\"OPENAI_API_KEY\"] = openai_api_key\n",
        "else:\n",
        "    print(\"✓ OpenAI API key already set\")\n",
        "\n",
        "print(\"\\n✓ Environment setup complete!\")\n",
        "print(\"You can now proceed with the rest of the notebook.\")"
      ]
    },
    {
      "cell_type": "code",
      "execution_count": 23,
      "id": "0d985473",
      "metadata": {
        "id": "0d985473"
      },
      "outputs": [],
      "source": [
        "# import and initialize langsmith client\n",
        "from langsmith import Client\n",
        "\n",
        "client = Client()"
      ]
    },
    {
      "cell_type": "code",
      "execution_count": 24,
      "id": "f4c4309c",
      "metadata": {
        "id": "f4c4309c"
      },
      "outputs": [],
      "source": [
        "# Name your dataset and add it to LangSmith\n",
        "dataset_name = \"Financial Analysis Dataset 2\"\n",
        "dataset = client.create_dataset(dataset_name)"
      ]
    },
    {
      "cell_type": "markdown",
      "id": "8910f06e",
      "metadata": {
        "id": "8910f06e"
      },
      "source": [
        "## Creating Your Evaluation Dataset\n",
        "\n",
        "Before testing your financial analysis agent, you need to define the datapoints for evaluation. Here are the key considerations:\n",
        "\n",
        "### Schema Design\n",
        "* **Minimum requirement:** Include inputs to your application (the financial questions)\n",
        "* **Recommended:** Define expected outputs (ideal answers your agent should provide)\n",
        "* **Advanced:** Add additional context like expected data sources or reasoning steps\n",
        "* **Flexibility:** LangSmith datasets support arbitrary schemas as your needs evolve\n",
        "\n",
        "### Dataset Size\n",
        "* **Start small:** Even 10-50 examples provide significant value\n",
        "* **Focus on coverage:** Ensure you capture edge cases and scenarios you want to guard against\n",
        "* **Grow over time:** Datasets are living constructs that expand as you learn from real usage\n",
        "\n",
        "### Data Collection Strategy\n",
        "* **Begin manually:** Hand-label your first 10-20 examples to establish quality baselines\n",
        "* **Learn from users:** Add problematic real-world examples as you discover pain points\n",
        "* **Iterate continuously:** Evaluation is an ongoing process, not a one-time setup\n",
        "* **Consider synthesis:** Advanced teams can augment with synthetically generated data\n",
        "\n",
        "### Our Approach\n",
        "For this tutorial, we'll create 5 financial analysis datapoints focusing on NVIDIA and AMD. Each example includes a question input and expected answer output for our question-answering agent."
      ]
    },
    {
      "cell_type": "code",
      "execution_count": 25,
      "id": "d77576b8",
      "metadata": {
        "colab": {
          "base_uri": "https://localhost:8080/"
        },
        "id": "d77576b8",
        "outputId": "eaf2bcd6-1b31-4c79-abf8-99ac72585a30"
      },
      "outputs": [
        {
          "output_type": "execute_result",
          "data": {
            "text/plain": [
              "{'example_ids': ['6964bf27-bc83-4c8a-bf5b-447a3c3fbcea',\n",
              "  '1c4b894e-ae54-4341-b3c4-bcb764d51440',\n",
              "  'e5a00107-e68f-48c4-9de6-66485995650a',\n",
              "  '673eeb12-27ff-45dc-909b-1bec63ea12ec',\n",
              "  'd198f4f8-948b-4976-a762-8a1847156e61'],\n",
              " 'count': 5}"
            ]
          },
          "metadata": {},
          "execution_count": 25
        }
      ],
      "source": [
        "# Create your dataset examples\n",
        "client.create_examples(\n",
        "\tdataset_id=dataset.id,\n",
        "\texamples=[\n",
        "\t\t {\n",
        "\t\t\"inputs\": {\"question\": \"What is NVIDIA's primary revenue driver?\"},\n",
        "\t\t\"outputs\": {\"answer\": \"Primarily data center chips and AI accelerators\"},\n",
        "\t\t },\n",
        "\t\t {\n",
        "\t\t\"inputs\": {\"question\": \"What market does AMD compete in?\"},\n",
        "\t\t\"outputs\": {\"answer\": \"CPUs, GPUs, and data center processors\"},\n",
        "\t\t },\n",
        "\t\t {\n",
        "\t\t\"inputs\": {\"question\": \"Who leads the AI chip market?\"},\n",
        "\t\t\"outputs\": {\"answer\": \"NVIDIA dominates with over 80% market share\"},\n",
        "\t\t },\n",
        "\t\t {\n",
        "\t\t\"inputs\": {\"question\": \"What is AMD's main competitive advantage?\"},\n",
        "\t\t\"outputs\": {\"answer\": \"Cost-effective alternatives to Intel and NVIDIA\"},\n",
        "\t\t },\n",
        "\t\t {\n",
        "\t\t\"inputs\": {\"question\": \"Does NVIDIA or AMD have higher gross margins?\"},\n",
        "\t\t\"outputs\": {\"answer\": \"NVIDIA typically maintains higher gross margins\"},\n",
        "\t\t }\n",
        " \t]\n",
        ")"
      ]
    },
    {
      "cell_type": "code",
      "execution_count": 26,
      "id": "19193c29",
      "metadata": {
        "id": "19193c29"
      },
      "outputs": [],
      "source": [
        "# we can use predefined scoring prompts (below) or create our own\n",
        "from openevals.llm import create_llm_as_judge\n",
        "from openevals.prompts import CORRECTNESS_PROMPT, CONCISENESS_PROMPT"
      ]
    },
    {
      "cell_type": "code",
      "execution_count": 27,
      "id": "afd39fc5",
      "metadata": {
        "colab": {
          "base_uri": "https://localhost:8080/"
        },
        "id": "afd39fc5",
        "outputId": "8a4fa2b8-dc6d-4f71-c438-424095d7dda0"
      },
      "outputs": [
        {
          "output_type": "stream",
          "name": "stdout",
          "text": [
            "CORRECTNESS_PROMPT\n",
            "You are an expert data labeler evaluating model outputs for correctness. Your task is to assign a score based on the following rubric:\n",
            "\n",
            "<Rubric>\n",
            "  A correct answer:\n",
            "  - Provides accurate and complete information\n",
            "  - Contains no factual errors\n",
            "  - Addresses all parts of the question\n",
            "  - Is logically consistent\n",
            "  - Uses precise and accurate terminology\n",
            "\n",
            "  When scoring, you should penalize:\n",
            "  - Factual errors or inaccuracies\n",
            "  - Incomplete or partial answers\n",
            "  - Misleading or ambiguous statements\n",
            "  - Incorrect terminology\n",
            "  - Logical inconsistencies\n",
            "  - Missing key information\n",
            "</Rubric>\n",
            "\n",
            "<Instructions>\n",
            "  - Carefully read the input and output\n",
            "  - Check for factual accuracy and completeness\n",
            "  - Focus on correctness of information rather than style or verbosity\n",
            "</Instructions>\n",
            "\n",
            "<Reminder>\n",
            "  The goal is to evaluate factual correctness and completeness of the response.\n",
            "</Reminder>\n",
            "\n",
            "<input>\n",
            "{inputs}\n",
            "</input>\n",
            "\n",
            "<output>\n",
            "{outputs}\n",
            "</output>\n",
            "\n",
            "Use the reference outputs below to help you evaluate the correctness of the response:\n",
            "\n",
            "<reference_outputs>\n",
            "{reference_outputs}\n",
            "</reference_outputs>\n",
            "\n",
            "\n",
            "\n",
            "\n",
            "CONCISENESS_PROMPT\n",
            "You are an expert data labeler evaluating model outputs for conciseness. Your task is to assign a score based on the following rubric:\n",
            "\n",
            "<Rubric>\n",
            "  A perfectly concise answer:\n",
            "  - Contains only the exact information requested.\n",
            "  - Uses the minimum number of words necessary to convey the complete answer.\n",
            "  - Omits pleasantries, hedging language, and unnecessary context.\n",
            "  - Excludes meta-commentary about the answer or the model's capabilities.\n",
            "  - Avoids redundant information or restatements.\n",
            "  - Does not include explanations unless explicitly requested.\n",
            "\n",
            "  When scoring, you should deduct points for:\n",
            "  - Introductory phrases like \"I believe,\" \"I think,\" or \"The answer is.\"\n",
            "  - Hedging language like \"probably,\" \"likely,\" or \"as far as I know.\"\n",
            "  - Unnecessary context or background information.\n",
            "  - Explanations when not requested.\n",
            "  - Follow-up questions or offers for more information.\n",
            "  - Redundant information or restatements.\n",
            "  - Polite phrases like \"hope this helps\" or \"let me know if you need anything else.\"\n",
            "</Rubric>\n",
            "\n",
            "<Instructions>\n",
            "  - Carefully read the input and output.\n",
            "  - Check for any unnecessary elements, particularly those mentioned in the <Rubric> above.\n",
            "  - The score should reflect how close the response comes to containing only the essential information requested based on the rubric above.\n",
            "</Instructions>\n",
            "\n",
            "<Reminder>\n",
            "  The goal is to reward responses that provide complete answers with absolutely no extraneous information.\n",
            "</Reminder>\n",
            "\n",
            "<input>\n",
            "{inputs}\n",
            "</input>\n",
            "\n",
            "<output>\n",
            "{outputs}\n",
            "</output>\n",
            "\n",
            "\n",
            "\n",
            "\n"
          ]
        }
      ],
      "source": [
        "# Inspect the predefined scoring prompts\n",
        "print(\"CORRECTNESS_PROMPT\")\n",
        "print(CORRECTNESS_PROMPT)\n",
        "\n",
        "print('\\n\\n')\n",
        "\n",
        "print(\"CONCISENESS_PROMPT\")\n",
        "print(CONCISENESS_PROMPT)\n",
        "\n",
        "print('\\n\\n')"
      ]
    },
    {
      "cell_type": "code",
      "execution_count": 28,
      "id": "6a0e68f3",
      "metadata": {
        "id": "6a0e68f3"
      },
      "outputs": [],
      "source": [
        "# using predefined scoring prompts\n",
        "# def correctness_evaluator(inputs: dict, outputs: dict, reference_outputs: dict):\n",
        "#     evaluator = create_llm_as_judge(\n",
        "#         prompt=CORRECTNESS_PROMPT,\n",
        "#         model=\"openai:o3-mini\",\n",
        "#         feedback_key=\"correctness\",\n",
        "#     )\n",
        "#     eval_result = evaluator(\n",
        "#         inputs=inputs,\n",
        "#         outputs=outputs,\n",
        "#         reference_outputs=reference_outputs\n",
        "#     )\n",
        "#     return eval_result"
      ]
    },
    {
      "cell_type": "markdown",
      "id": "dc86c934",
      "metadata": {
        "id": "dc86c934"
      },
      "source": [
        "## Defining Evaluation Metrics\n",
        "\n",
        "Now that we have our dataset, we need to establish metrics to measure our financial agent's performance. Here's our evaluation strategy:\n",
        "\n",
        "### Evaluation Challenges\n",
        "* **Semantic similarity:** We don't expect exact word matches with reference answers\n",
        "* **Contextual correctness:** Financial responses need accuracy, not just similar phrasing  \n",
        "* **Multiple valid answers:** Financial questions often have several correct approaches\n",
        "\n",
        "### Our Two-Metric Approach\n",
        "\n",
        "#### 1. Correctness Evaluation\n",
        "* **Method:** LLM-as-a-judge using GPT-4o-mini\n",
        "* **Why LLM:** Too complex for simple string matching or rule-based functions\n",
        "* **Rubric criteria:**\n",
        "  - Accurate and complete information\n",
        "  - No factual errors\n",
        "  - Addresses all question components\n",
        "  - Logical consistency\n",
        "  - Precise financial terminology\n",
        "* **Output:** Binary CORRECT/INCORRECT assessment\n",
        "\n",
        "#### 2. Conciseness Evaluation  \n",
        "* **Method:** Simple Python function measuring response length\n",
        "* **Threshold:** Response must be less than 2x the reference answer length\n",
        "* **Rationale:** Financial analysis should be clear and concise, not verbose\n",
        "* **Output:** Boolean pass/fail metric\n",
        "\n",
        "### Implementation Benefits\n",
        "* **Automated assessment:** Both metrics run without human intervention\n",
        "* **Scalable evaluation:** Can process large numbers of examples quickly\n",
        "* **Balanced measurement:** Captures both accuracy and response quality"
      ]
    },
    {
      "cell_type": "code",
      "execution_count": 29,
      "id": "7c7055fa",
      "metadata": {
        "id": "7c7055fa"
      },
      "outputs": [],
      "source": [
        "# import openai\n",
        "from langchain_openai import ChatOpenAI\n",
        "\n",
        "llm = ChatOpenAI(model=\"gpt-4.1-2025-04-14\", temperature=0)\n",
        "\n",
        "eval_instructions = \"\"\"\n",
        "You are an expert data labeler evaluating model outputs for correctness. Your task is to grade the response as CORRECT or INCORRECT based on the following rubric:\n",
        "\n",
        "<Rubric>\n",
        "A correct answer:\n",
        "- Provides accurate and complete information\n",
        "- Contains no factual errors\n",
        "- Addresses all parts of the question\n",
        "- Is logically consistent\n",
        "- Uses precise and accurate terminology\n",
        "</Rubric>\n",
        "\"\"\"\n",
        "\n",
        "def correctness(inputs: dict, outputs: dict, reference_outputs: dict) -> bool:\n",
        "    user_content = f\"\"\"You are grading the following question:\n",
        "    {inputs['question']}\n",
        "    Here is the real answer:\n",
        "    {reference_outputs['answer']}\n",
        "    You are grading the following predicted answer:\n",
        "    {outputs['response']}\n",
        "    Respond with CORRECT or INCORRECT:\n",
        "    Grade:\n",
        "    \"\"\"\n",
        "    response = llm.invoke([\n",
        "            {\"role\": \"system\", \"content\": eval_instructions},\n",
        "            {\"role\": \"user\", \"content\": user_content},\n",
        "        ],\n",
        "    ).content\n",
        "    return response == \"CORRECT\""
      ]
    },
    {
      "cell_type": "code",
      "execution_count": 30,
      "id": "d5d56808",
      "metadata": {
        "id": "d5d56808"
      },
      "outputs": [],
      "source": [
        "def conciseness(outputs: dict, reference_outputs: dict) -> bool:\n",
        "    return int(len(outputs[\"response\"]) < 2 * len(reference_outputs[\"answer\"]))"
      ]
    },
    {
      "cell_type": "markdown",
      "id": "8285100b",
      "metadata": {
        "id": "8285100b"
      },
      "source": [
        "## Running Evaluations\n",
        "\n",
        "With our dataset and metrics in place, we're ready to evaluate our financial analysis agent. Here's how to set up and execute the evaluation process:\n",
        "\n",
        "### Application Architecture\n",
        "* **Simple design:** System message with instructions + user question passed to LLM\n",
        "* **LangChain implementation:** Using ChatOpenAI for clean LLM interactions\n",
        "* **Fixed configuration:**\n",
        "  - Model: gpt-4o-mini\n",
        "  - Temperature: 0 for consistent responses\n",
        "  - Customizable instructions for different financial analysis scenarios\n",
        "\n",
        "### Key Components\n",
        "\n",
        "#### 1. Core Application Function\n",
        "* **Purpose:** Processes financial questions and returns concise answers\n",
        "* **Default behavior:** Short, concise responses for financial clarity\n",
        "* **Instruction flexibility:** Can modify system prompts for different evaluation tests\n",
        "* **Note:** Current implementation uses fixed model (consider making dynamic if needed)\n",
        "\n",
        "#### 2. LangSmith Integration Wrapper\n",
        "* **Input mapping:** Converts dataset question format to application input\n",
        "* **Output formatting:** Transforms application response to expected evaluation format\n",
        "* **Key requirement:** Maps `inputs[\"question\"]` → `{\"response\": answer}`\n",
        "\n",
        "### Evaluation Execution\n",
        "* **Automated process:** `client.evaluate()` runs your app against the entire dataset\n",
        "* **Multi-metric assessment:** Both conciseness and correctness evaluated simultaneously\n",
        "* **Experiment tracking:** Results tagged with \"openai-4o-mini\" prefix for easy identification\n",
        "* **Scalable testing:** Same setup allows comparing different prompts or configurations"
      ]
    },
    {
      "cell_type": "code",
      "execution_count": 31,
      "id": "16c77236",
      "metadata": {
        "id": "16c77236"
      },
      "outputs": [],
      "source": [
        "default_instructions = \"Respond to the users question in a short, concise manner.\"\n",
        "\n",
        "def my_app(question: str, model: str = \"gpt-4.1-nano-2025-04-14\", instructions: str = default_instructions) -> str:\n",
        "    llm = ChatOpenAI(model=model, temperature=1)\n",
        "    return llm.invoke([\n",
        "        {\"role\": \"system\", \"content\": instructions},\n",
        "        {\"role\": \"user\", \"content\": question},\n",
        "    ]).content"
      ]
    },
    {
      "cell_type": "code",
      "execution_count": 32,
      "id": "eb191efb",
      "metadata": {
        "id": "eb191efb"
      },
      "outputs": [],
      "source": [
        "def ls_target(inputs: str) -> dict:\n",
        "    return {\"response\": my_app(inputs[\"question\"])}"
      ]
    },
    {
      "cell_type": "code",
      "execution_count": 33,
      "id": "70129510",
      "metadata": {
        "colab": {
          "base_uri": "https://localhost:8080/",
          "height": 140,
          "referenced_widgets": [
            "1c6ac6b610704256bd0ac9e6e6ddacd2",
            "84255a59debf43edbef6a17cf72e39a1",
            "3f792d874b644058a6d699b4ef8f07d1",
            "b53d6df8961b484d8d57b47bfe52fe6f",
            "4926646f6850457dbf1d8f011fdddfe0",
            "c27cec790fd24f9d989dbf21db2de40c",
            "1a48a27f64ac40e78838e70d76ab1ccd",
            "dbbd0db4b7724b20b514d4a0194f0514",
            "cb2a141848ed4da898342a126bfb6959",
            "48c958c71e914de7945a59ca00cb1939",
            "cd5b735b993d45b0a80dc931a6035618"
          ]
        },
        "id": "70129510",
        "outputId": "fffedfb1-b8f1-4360-8a14-e37d6b9bee4a"
      },
      "outputs": [
        {
          "output_type": "stream",
          "name": "stdout",
          "text": [
            "View the evaluation results for experiment: 'openai-4.1-nano-bc531d47' at:\n",
            "https://smith.langchain.com/o/7d3b44de-4efa-4a94-8d94-197ab932997f/datasets/ff5286fb-9b10-4cfb-aedc-50a2a999ed11/compare?selectedSessions=9bb02052-bfc5-4269-8bb1-428c323c9f8f\n",
            "\n",
            "\n"
          ]
        },
        {
          "output_type": "display_data",
          "data": {
            "text/plain": [
              "0it [00:00, ?it/s]"
            ],
            "application/vnd.jupyter.widget-view+json": {
              "version_major": 2,
              "version_minor": 0,
              "model_id": "1c6ac6b610704256bd0ac9e6e6ddacd2"
            }
          },
          "metadata": {}
        }
      ],
      "source": [
        "experiment_results = client.evaluate(\n",
        "    ls_target, # Your AI system\n",
        "    data=dataset_name, # The data to predict and grade over\n",
        "    evaluators=[conciseness, correctness], # The evaluators to score the results\n",
        "    experiment_prefix=\"openai-4.1-nano\", # A prefix for your experiment names to easily identify them\n",
        ")"
      ]
    },
    {
      "cell_type": "markdown",
      "id": "c8e15d85",
      "metadata": {
        "id": "c8e15d85"
      },
      "source": [
        "### What adjustments can we make to improve the eval?"
      ]
    }
  ],
  "metadata": {
    "kernelspec": {
      "display_name": "venv",
      "language": "python",
      "name": "python3"
    },
    "language_info": {
      "codemirror_mode": {
        "name": "ipython",
        "version": 3
      },
      "file_extension": ".py",
      "mimetype": "text/x-python",
      "name": "python",
      "nbconvert_exporter": "python",
      "pygments_lexer": "ipython3",
      "version": "3.12.11"
    },
    "colab": {
      "provenance": []
    },
    "widgets": {
      "application/vnd.jupyter.widget-state+json": {
        "1c6ac6b610704256bd0ac9e6e6ddacd2": {
          "model_module": "@jupyter-widgets/controls",
          "model_name": "HBoxModel",
          "model_module_version": "1.5.0",
          "state": {
            "_dom_classes": [],
            "_model_module": "@jupyter-widgets/controls",
            "_model_module_version": "1.5.0",
            "_model_name": "HBoxModel",
            "_view_count": null,
            "_view_module": "@jupyter-widgets/controls",
            "_view_module_version": "1.5.0",
            "_view_name": "HBoxView",
            "box_style": "",
            "children": [
              "IPY_MODEL_84255a59debf43edbef6a17cf72e39a1",
              "IPY_MODEL_3f792d874b644058a6d699b4ef8f07d1",
              "IPY_MODEL_b53d6df8961b484d8d57b47bfe52fe6f"
            ],
            "layout": "IPY_MODEL_4926646f6850457dbf1d8f011fdddfe0"
          }
        },
        "84255a59debf43edbef6a17cf72e39a1": {
          "model_module": "@jupyter-widgets/controls",
          "model_name": "HTMLModel",
          "model_module_version": "1.5.0",
          "state": {
            "_dom_classes": [],
            "_model_module": "@jupyter-widgets/controls",
            "_model_module_version": "1.5.0",
            "_model_name": "HTMLModel",
            "_view_count": null,
            "_view_module": "@jupyter-widgets/controls",
            "_view_module_version": "1.5.0",
            "_view_name": "HTMLView",
            "description": "",
            "description_tooltip": null,
            "layout": "IPY_MODEL_c27cec790fd24f9d989dbf21db2de40c",
            "placeholder": "​",
            "style": "IPY_MODEL_1a48a27f64ac40e78838e70d76ab1ccd",
            "value": ""
          }
        },
        "3f792d874b644058a6d699b4ef8f07d1": {
          "model_module": "@jupyter-widgets/controls",
          "model_name": "FloatProgressModel",
          "model_module_version": "1.5.0",
          "state": {
            "_dom_classes": [],
            "_model_module": "@jupyter-widgets/controls",
            "_model_module_version": "1.5.0",
            "_model_name": "FloatProgressModel",
            "_view_count": null,
            "_view_module": "@jupyter-widgets/controls",
            "_view_module_version": "1.5.0",
            "_view_name": "ProgressView",
            "bar_style": "success",
            "description": "",
            "description_tooltip": null,
            "layout": "IPY_MODEL_dbbd0db4b7724b20b514d4a0194f0514",
            "max": 1,
            "min": 0,
            "orientation": "horizontal",
            "style": "IPY_MODEL_cb2a141848ed4da898342a126bfb6959",
            "value": 1
          }
        },
        "b53d6df8961b484d8d57b47bfe52fe6f": {
          "model_module": "@jupyter-widgets/controls",
          "model_name": "HTMLModel",
          "model_module_version": "1.5.0",
          "state": {
            "_dom_classes": [],
            "_model_module": "@jupyter-widgets/controls",
            "_model_module_version": "1.5.0",
            "_model_name": "HTMLModel",
            "_view_count": null,
            "_view_module": "@jupyter-widgets/controls",
            "_view_module_version": "1.5.0",
            "_view_name": "HTMLView",
            "description": "",
            "description_tooltip": null,
            "layout": "IPY_MODEL_48c958c71e914de7945a59ca00cb1939",
            "placeholder": "​",
            "style": "IPY_MODEL_cd5b735b993d45b0a80dc931a6035618",
            "value": " 5/? [00:07&lt;00:00,  1.31s/it]"
          }
        },
        "4926646f6850457dbf1d8f011fdddfe0": {
          "model_module": "@jupyter-widgets/base",
          "model_name": "LayoutModel",
          "model_module_version": "1.2.0",
          "state": {
            "_model_module": "@jupyter-widgets/base",
            "_model_module_version": "1.2.0",
            "_model_name": "LayoutModel",
            "_view_count": null,
            "_view_module": "@jupyter-widgets/base",
            "_view_module_version": "1.2.0",
            "_view_name": "LayoutView",
            "align_content": null,
            "align_items": null,
            "align_self": null,
            "border": null,
            "bottom": null,
            "display": null,
            "flex": null,
            "flex_flow": null,
            "grid_area": null,
            "grid_auto_columns": null,
            "grid_auto_flow": null,
            "grid_auto_rows": null,
            "grid_column": null,
            "grid_gap": null,
            "grid_row": null,
            "grid_template_areas": null,
            "grid_template_columns": null,
            "grid_template_rows": null,
            "height": null,
            "justify_content": null,
            "justify_items": null,
            "left": null,
            "margin": null,
            "max_height": null,
            "max_width": null,
            "min_height": null,
            "min_width": null,
            "object_fit": null,
            "object_position": null,
            "order": null,
            "overflow": null,
            "overflow_x": null,
            "overflow_y": null,
            "padding": null,
            "right": null,
            "top": null,
            "visibility": null,
            "width": null
          }
        },
        "c27cec790fd24f9d989dbf21db2de40c": {
          "model_module": "@jupyter-widgets/base",
          "model_name": "LayoutModel",
          "model_module_version": "1.2.0",
          "state": {
            "_model_module": "@jupyter-widgets/base",
            "_model_module_version": "1.2.0",
            "_model_name": "LayoutModel",
            "_view_count": null,
            "_view_module": "@jupyter-widgets/base",
            "_view_module_version": "1.2.0",
            "_view_name": "LayoutView",
            "align_content": null,
            "align_items": null,
            "align_self": null,
            "border": null,
            "bottom": null,
            "display": null,
            "flex": null,
            "flex_flow": null,
            "grid_area": null,
            "grid_auto_columns": null,
            "grid_auto_flow": null,
            "grid_auto_rows": null,
            "grid_column": null,
            "grid_gap": null,
            "grid_row": null,
            "grid_template_areas": null,
            "grid_template_columns": null,
            "grid_template_rows": null,
            "height": null,
            "justify_content": null,
            "justify_items": null,
            "left": null,
            "margin": null,
            "max_height": null,
            "max_width": null,
            "min_height": null,
            "min_width": null,
            "object_fit": null,
            "object_position": null,
            "order": null,
            "overflow": null,
            "overflow_x": null,
            "overflow_y": null,
            "padding": null,
            "right": null,
            "top": null,
            "visibility": null,
            "width": null
          }
        },
        "1a48a27f64ac40e78838e70d76ab1ccd": {
          "model_module": "@jupyter-widgets/controls",
          "model_name": "DescriptionStyleModel",
          "model_module_version": "1.5.0",
          "state": {
            "_model_module": "@jupyter-widgets/controls",
            "_model_module_version": "1.5.0",
            "_model_name": "DescriptionStyleModel",
            "_view_count": null,
            "_view_module": "@jupyter-widgets/base",
            "_view_module_version": "1.2.0",
            "_view_name": "StyleView",
            "description_width": ""
          }
        },
        "dbbd0db4b7724b20b514d4a0194f0514": {
          "model_module": "@jupyter-widgets/base",
          "model_name": "LayoutModel",
          "model_module_version": "1.2.0",
          "state": {
            "_model_module": "@jupyter-widgets/base",
            "_model_module_version": "1.2.0",
            "_model_name": "LayoutModel",
            "_view_count": null,
            "_view_module": "@jupyter-widgets/base",
            "_view_module_version": "1.2.0",
            "_view_name": "LayoutView",
            "align_content": null,
            "align_items": null,
            "align_self": null,
            "border": null,
            "bottom": null,
            "display": null,
            "flex": null,
            "flex_flow": null,
            "grid_area": null,
            "grid_auto_columns": null,
            "grid_auto_flow": null,
            "grid_auto_rows": null,
            "grid_column": null,
            "grid_gap": null,
            "grid_row": null,
            "grid_template_areas": null,
            "grid_template_columns": null,
            "grid_template_rows": null,
            "height": null,
            "justify_content": null,
            "justify_items": null,
            "left": null,
            "margin": null,
            "max_height": null,
            "max_width": null,
            "min_height": null,
            "min_width": null,
            "object_fit": null,
            "object_position": null,
            "order": null,
            "overflow": null,
            "overflow_x": null,
            "overflow_y": null,
            "padding": null,
            "right": null,
            "top": null,
            "visibility": null,
            "width": "20px"
          }
        },
        "cb2a141848ed4da898342a126bfb6959": {
          "model_module": "@jupyter-widgets/controls",
          "model_name": "ProgressStyleModel",
          "model_module_version": "1.5.0",
          "state": {
            "_model_module": "@jupyter-widgets/controls",
            "_model_module_version": "1.5.0",
            "_model_name": "ProgressStyleModel",
            "_view_count": null,
            "_view_module": "@jupyter-widgets/base",
            "_view_module_version": "1.2.0",
            "_view_name": "StyleView",
            "bar_color": null,
            "description_width": ""
          }
        },
        "48c958c71e914de7945a59ca00cb1939": {
          "model_module": "@jupyter-widgets/base",
          "model_name": "LayoutModel",
          "model_module_version": "1.2.0",
          "state": {
            "_model_module": "@jupyter-widgets/base",
            "_model_module_version": "1.2.0",
            "_model_name": "LayoutModel",
            "_view_count": null,
            "_view_module": "@jupyter-widgets/base",
            "_view_module_version": "1.2.0",
            "_view_name": "LayoutView",
            "align_content": null,
            "align_items": null,
            "align_self": null,
            "border": null,
            "bottom": null,
            "display": null,
            "flex": null,
            "flex_flow": null,
            "grid_area": null,
            "grid_auto_columns": null,
            "grid_auto_flow": null,
            "grid_auto_rows": null,
            "grid_column": null,
            "grid_gap": null,
            "grid_row": null,
            "grid_template_areas": null,
            "grid_template_columns": null,
            "grid_template_rows": null,
            "height": null,
            "justify_content": null,
            "justify_items": null,
            "left": null,
            "margin": null,
            "max_height": null,
            "max_width": null,
            "min_height": null,
            "min_width": null,
            "object_fit": null,
            "object_position": null,
            "order": null,
            "overflow": null,
            "overflow_x": null,
            "overflow_y": null,
            "padding": null,
            "right": null,
            "top": null,
            "visibility": null,
            "width": null
          }
        },
        "cd5b735b993d45b0a80dc931a6035618": {
          "model_module": "@jupyter-widgets/controls",
          "model_name": "DescriptionStyleModel",
          "model_module_version": "1.5.0",
          "state": {
            "_model_module": "@jupyter-widgets/controls",
            "_model_module_version": "1.5.0",
            "_model_name": "DescriptionStyleModel",
            "_view_count": null,
            "_view_module": "@jupyter-widgets/base",
            "_view_module_version": "1.2.0",
            "_view_name": "StyleView",
            "description_width": ""
          }
        }
      }
    }
  },
  "nbformat": 4,
  "nbformat_minor": 5
}